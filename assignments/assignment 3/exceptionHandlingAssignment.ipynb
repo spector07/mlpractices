{
 "cells": [
  {
   "cell_type": "markdown",
   "metadata": {},
   "source": [
    "### Write a function to compute 5/0 and use try/except to catch the exceptions."
   ]
  },
  {
   "cell_type": "code",
   "execution_count": 9,
   "metadata": {},
   "outputs": [],
   "source": [
    "def infinity():    \n",
    "    try:\n",
    "        val = 5/0\n",
    "        print(val)\n",
    "    except:\n",
    "        print(\"-\"*60)\n",
    "        print(\"Exception thrown\")\n",
    "        print(\"Number is not divisible by 0\")\n",
    "        print(\"-\"*60)\n",
    "    finally:\n",
    "        print(\"Completed the calculation\")"
   ]
  },
  {
   "cell_type": "code",
   "execution_count": 10,
   "metadata": {},
   "outputs": [
    {
     "name": "stdout",
     "output_type": "stream",
     "text": [
      "------------------------------------------------------------\n",
      "Exception thrown\n",
      "Number is not divisible by 0\n",
      "------------------------------------------------------------\n",
      "Completed the calculation\n"
     ]
    }
   ],
   "source": [
    "infinity()"
   ]
  },
  {
   "cell_type": "code",
   "execution_count": 3,
   "metadata": {},
   "outputs": [],
   "source": [
    "subjects=[\"Americans\",\"Indians\"]\n",
    "verbs=[\"play\",\"watch\"]\n",
    "objects=[\"Baseball\",\"Cricket\"]"
   ]
  },
  {
   "cell_type": "code",
   "execution_count": 8,
   "metadata": {},
   "outputs": [
    {
     "name": "stdout",
     "output_type": "stream",
     "text": [
      "Americans play Baseball\n",
      "Americans play Cricket\n",
      "Americans watch Baseball\n",
      "Americans watch Cricket\n",
      "Indians play Baseball\n",
      "Indians play Cricket\n",
      "Indians watch Baseball\n",
      "Indians watch Cricket\n",
      "------------------------------------------------------------\n",
      "This is else block called after try completes successfully\n",
      "------------------------------------------------------------\n",
      "Finally Done\n"
     ]
    }
   ],
   "source": [
    "try:\n",
    "    for l in ['{} {} {}'.format(x,y,z) for x in subjects for y in verbs for z in objects]:\n",
    "        print(l)\n",
    "except:\n",
    "    print(\"Please provide the lists for subjects, verbs and objects\")\n",
    "else:\n",
    "    print(\"-\"*60)\n",
    "    print(\"This is else block called after try completes successfully\")\n",
    "finally:\n",
    "    print(\"-\"*60)\n",
    "    print(\"Finally Done\")"
   ]
  },
  {
   "cell_type": "code",
   "execution_count": null,
   "metadata": {},
   "outputs": [],
   "source": []
  },
  {
   "cell_type": "markdown",
   "metadata": {},
   "source": [
    "### Write a function so that the columns of the output matrix are powers of the input vector. AlexandreTheophile Vandermonde\n"
   ]
  },
  {
   "cell_type": "code",
   "execution_count": 2,
   "metadata": {},
   "outputs": [
    {
     "data": {
      "text/plain": [
       "array([[ 1,  2,  4],\n",
       "       [ 1,  4, 16]], dtype=int32)"
      ]
     },
     "execution_count": 2,
     "metadata": {},
     "output_type": "execute_result"
    }
   ],
   "source": [
    "def powerOfVectors(lst,cols,increasing):\n",
    "    x = np.array(lst)\n",
    "    arr = np.column_stack([x**(cols-1-i) for i in range(cols)])\n",
    "    if increasing:\n",
    "        return np.array([item[::-1] for item in arr])    \n",
    "    return arr\n",
    "\n",
    "powerOfVectors([2,4], 3, True)"
   ]
  },
 ],
 "metadata": {
  "kernelspec": {
   "display_name": "Python 3",
   "language": "python",
   "name": "python3"
  },
  "language_info": {
   "codemirror_mode": {
    "name": "ipython",
    "version": 3
   },
   "file_extension": ".py",
   "mimetype": "text/x-python",
   "name": "python",
   "nbconvert_exporter": "python",
   "pygments_lexer": "ipython3",
   "version": "3.7.6"
  }
 },
 "nbformat": 4,
 "nbformat_minor": 2
}
