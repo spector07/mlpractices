{
 "cells": [
  {
   "cell_type": "raw",
   "metadata": {},
   "source": [
    "# 1.Introduction\n",
    "This assignment will help you to consolidate the concepts learnt in the\n",
    "session.\n",
    "2.Problem Statement\n",
    "In this assignment, students will be using the K-nearest neighbors\n",
    "algorithm to predict how many points NBA players scored in the 2013-2014\n",
    "season.\n",
    "A look at the data\n",
    "Before we dive into the algorithm, let’s take a look at our data. Each row in\n",
    "the data contains information on how a player performed in the 2013-2014\n",
    "NBA season.\n",
    "Download 'nba_2013.csv' file from this link:\n",
    "https://www.dropbox.com/s/b3nv38jjo5dxcl6/nba_2013.csv?dl=0\n",
    "Here are some selected columns from the data:\n",
    "player - name of the player\n",
    "pos - the position of the player\n",
    "g - number of games the player was in\n",
    "gs - number of games the player started\n",
    "pts - total points the player scored\n",
    "There are many more columns in the data, mostly containing information\n",
    "about average player game performance over the course of the season.\n",
    "See this site for an explanation of the rest of them.\n",
    "We can read our dataset in and figure out which columns are present:\n",
    "import pandas\n",
    "with open(\"nba_2013.csv\", 'r') as csvfile:\n",
    "nba = pandas.read_csv(csvfile)\n",
    "NOTE:ThesolutionsharedthroughGithubshouldcontainthesource code\n",
    "usedand thescreenshotoftheoutput.\n",
    "3.Output\n",
    "This assignment consists of 200 marks and has to be submitted in\n",
    ".ipynb/PDF format in the upcoming session for evaluation."
   ]
  },
  {
   "cell_type": "code",
   "execution_count": null,
   "metadata": {},
   "outputs": [],
   "source": []
  }
 ],
 "metadata": {
  "kernelspec": {
   "display_name": "Python 3",
   "language": "python",
   "name": "python3"
  },
  "language_info": {
   "codemirror_mode": {
    "name": "ipython",
    "version": 3
   },
   "file_extension": ".py",
   "mimetype": "text/x-python",
   "name": "python",
   "nbconvert_exporter": "python",
   "pygments_lexer": "ipython3",
   "version": "3.7.6"
  }
 },
 "nbformat": 4,
 "nbformat_minor": 2
}
